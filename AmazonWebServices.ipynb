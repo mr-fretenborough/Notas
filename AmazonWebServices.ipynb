{
 "cells": [
  {
   "attachments": {},
   "cell_type": "markdown",
   "metadata": {},
   "source": [
    "# Amazon Web Services"
   ]
  },
  {
   "attachments": {},
   "cell_type": "markdown",
   "metadata": {},
   "source": [
    "| Product Name | Acronym | Purpose |\n",
    "| :----------- | :------ | :------ |\n",
    "[Elastic Compute Cloud](#elastic-compute-cloud) | EC2 | Secure and resizable cloud computing platform\n",
    "[Virtual Private Cloud](#virtual-private-cloud) | VPC | placeholder\n",
    "[Simple Storage Service](#simple-storage-service) | S3 | placeholder\n",
    "[Elastic Container Registry](#elastic-container-registry) | ECR | placeholder\n",
    "[Elastic Container Service](#elastic-container-service) | ECS | placeholder\n",
    "[Elastic Kubernetes Service](#elastic-kubernetes-service) | EKS | placeholder\n",
    "[Identity and Access Management](#identity-and-access-management) | IAM | placeholder\n",
    "[Amazon Machine Image](#amazon-machine-image) | AMI | placeholder\n",
    "[Simple Queue Service](#simple-queue-service) | SQS | placeholder\n",
    "[Lightsail](#lightsail) | N/A | placeholder\n",
    "[Athena](#athena) | N/A | placeholder\n",
    "[DynamoDB](#dynamodb) | N/A | placeholder\n",
    "[Lambda](#) | N/A | placeholder\n",
    "[EventBridge](#) | N/A | placeholder\n",
    "[CloudFront](#cloudfront) | N/A | placeholder\n",
    "[CodeCommit](#codecommit) | N/A | placeholder\n",
    "[API Gateway](#api-gateway) | N/A | placeholder"
   ]
  },
  {
   "attachments": {},
   "cell_type": "markdown",
   "metadata": {},
   "source": [
    "### [Elastic Compute Cloud](https://aws.amazon.com/ec2/)"
   ]
  },
  {
   "attachments": {},
   "cell_type": "markdown",
   "metadata": {},
   "source": [
    "Amazon Elastic Compute Cloud (Amazon EC2) offers the broadest and deepest compute platform, with over 500 instances and choice of the latest processor, storage, networking, operating system, and purchase model to help you best match the needs of your workload. We are the first major cloud provider that supports Intel, AMD, and Arm processors, the only cloud with on-demand EC2 Mac instances, and the only cloud with 400 Gbps Ethernet networking. We offer the best price performance for machine learning training, as well as the lowest cost per inference instances in the cloud. More SAP, high performance computing (HPC), ML, and Windows workloads run on AWS than any other cloud.\n",
    "\n",
    "Essentially, this is a service where you can spin up virtual machines of different sizes and power. You can also use these instances to interface with other AWS products."
   ]
  },
  {
   "attachments": {},
   "cell_type": "markdown",
   "metadata": {},
   "source": [
    "### Virtual Private Cloud"
   ]
  },
  {
   "attachments": {},
   "cell_type": "markdown",
   "metadata": {},
   "source": [
    "### Simple Storage Service"
   ]
  },
  {
   "attachments": {},
   "cell_type": "markdown",
   "metadata": {},
   "source": [
    "### Elastic Container Registry "
   ]
  },
  {
   "attachments": {},
   "cell_type": "markdown",
   "metadata": {},
   "source": [
    "### Elastic Container Service"
   ]
  },
  {
   "attachments": {},
   "cell_type": "markdown",
   "metadata": {},
   "source": [
    "AWS ECS is a container management service which allows you to run and manage containers in a cluster. A cluster is a collection of EC2 instances which serve as the hosting environments for your application. Each EC2 instance will have one or more _tasks_, which is a way to launch one or more containers onto the EC2. Each task must be configured from a _task definition_, which tells ECS which container(s) the task will run on which EC2 instance(s). The task gets the container information from the _Container Image Registry_.\n",
    "\n",
    "You can also use _Service_ on top of tasks, which allow you to implement load balancing & auto scaling. Similar to tasks, you can also implement more than one service on your EC2 box."
   ]
  },
  {
   "attachments": {},
   "cell_type": "markdown",
   "metadata": {},
   "source": [
    "![ECS Cluster](/images/Screenshot%202023-02-22%20at%208.03.45%20AM.png)"
   ]
  },
  {
   "attachments": {},
   "cell_type": "markdown",
   "metadata": {},
   "source": [
    "### Elastic Kubernetes Service"
   ]
  },
  {
   "attachments": {},
   "cell_type": "markdown",
   "metadata": {},
   "source": [
    "### Identity and Access Management"
   ]
  },
  {
   "attachments": {},
   "cell_type": "markdown",
   "metadata": {},
   "source": [
    "### Amazon Machine Image"
   ]
  },
  {
   "attachments": {},
   "cell_type": "markdown",
   "metadata": {},
   "source": [
    "### Simple Queue Service"
   ]
  },
  {
   "attachments": {},
   "cell_type": "markdown",
   "metadata": {},
   "source": [
    "### Lightsail"
   ]
  },
  {
   "attachments": {},
   "cell_type": "markdown",
   "metadata": {},
   "source": [
    "### Athena"
   ]
  },
  {
   "attachments": {},
   "cell_type": "markdown",
   "metadata": {},
   "source": [
    "### DynamoDB"
   ]
  },
  {
   "attachments": {},
   "cell_type": "markdown",
   "metadata": {},
   "source": [
    "### Lambda"
   ]
  },
  {
   "attachments": {},
   "cell_type": "markdown",
   "metadata": {},
   "source": [
    "### EventBridge"
   ]
  },
  {
   "attachments": {},
   "cell_type": "markdown",
   "metadata": {},
   "source": [
    "### CloudFront"
   ]
  },
  {
   "attachments": {},
   "cell_type": "markdown",
   "metadata": {},
   "source": [
    "### CodeCommit"
   ]
  },
  {
   "attachments": {},
   "cell_type": "markdown",
   "metadata": {},
   "source": [
    "### API Gateway"
   ]
  }
 ],
 "metadata": {
  "kernelspec": {
   "display_name": "Python 3",
   "language": "python",
   "name": "python3"
  },
  "language_info": {
   "name": "python",
   "version": "3.9.6 (default, Oct 18 2022, 12:41:40) \n[Clang 14.0.0 (clang-1400.0.29.202)]"
  },
  "orig_nbformat": 4,
  "vscode": {
   "interpreter": {
    "hash": "31f2aee4e71d21fbe5cf8b01ff0e069b9275f58929596ceb00d14d90e3e16cd6"
   }
  }
 },
 "nbformat": 4,
 "nbformat_minor": 2
}
