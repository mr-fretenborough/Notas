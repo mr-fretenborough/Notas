{
 "cells": [
  {
   "attachments": {},
   "cell_type": "markdown",
   "metadata": {},
   "source": [
    "# Google Tag Manager"
   ]
  },
  {
   "attachments": {},
   "cell_type": "markdown",
   "metadata": {},
   "source": [
    "## Overview\n",
    "\n",
    "Tag Manager gives you the ability to add and update your own tags for conversion tracking, site analytics, remarketing, and more. There are nearly endless ways to track activity across your sites and apps, and the intuitive design lets you change tags whenever you want. Easy-to-use error checking and speedy tag loading ensure your mission-critical data is collected reliably and accurately. The IT team will feel confident that the site is running smoothly, so everyone’s happy, even during busy holidays or the launch of a new campaign. With Tag Manager, you can add or change your tags as needed. Tag Manager supports all tags and offers easy-to-use turnkey templates for a wide range of Google and third-party tags for web and mobile apps. You can also use Tag Manager to manage how your tags behave once users make their cookie consent decisions. Workspaces and granular access controls allow your team to work together efficiently, while multi-environment testing lets you publish to different environments to ensure things are working as expected. Enterprises with Tag Manager 360 can give more users tagging access, with defined levels of access to certain pages.\n",
    "\n",
    "Google Tag Manager is a tag management system that has the same functionality as the Google tag and lets you configure and instantly deploy tags on your website or mobile app from an easy-to-use web-based interface. In addition, Tag Manager features support for tag organization and version control, 3rd party and community-developed tag templates, and enterprise collaboration and security features. Tag Manager helps to optimize tag deployment, reduce tag configuration errors and allows you to modify and deploy tags on your site instantly from a web-based interface. "
   ]
  }
 ],
 "metadata": {
  "language_info": {
   "name": "python"
  },
  "orig_nbformat": 4
 },
 "nbformat": 4,
 "nbformat_minor": 2
}
