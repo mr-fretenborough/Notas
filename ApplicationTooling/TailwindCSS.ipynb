{
 "cells": [
  {
   "attachments": {},
   "cell_type": "markdown",
   "metadata": {},
   "source": [
    "# Tailwind\n",
    "<hr/>"
   ]
  },
  {
   "attachments": {},
   "cell_type": "markdown",
   "metadata": {},
   "source": [
    "## Overview\n",
    "\n",
    "TailwindCSS is a \"utility-first CSS framework packed with classes like flex, pt-4, text-center and rotate-90 that can be composed to build any design, directly in your markup.\"\n",
    "\n",
    "Different from frameworks like Bootstrap and Material that create styles for high level components like buttons, dropdowns, et. cetera., Tailwind takes a more functional approach. It allows you to build similar components by providing you with utility classes that can be composed together and applied conditionally. Logically, you are given more freedom in terms of aesthetics than you can get with the frameworks mentioned above. However, with this freedom, you can run into code duplication or verbosity issues as your code base or application grows in complexity.\n",
    "\n"
   ]
  }
 ],
 "metadata": {
  "language_info": {
   "name": "python"
  },
  "orig_nbformat": 4
 },
 "nbformat": 4,
 "nbformat_minor": 2
}
