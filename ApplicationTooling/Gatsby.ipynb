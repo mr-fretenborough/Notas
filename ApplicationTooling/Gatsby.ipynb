{
 "cells": [
  {
   "attachments": {},
   "cell_type": "markdown",
   "metadata": {},
   "source": [
    "# Gatsby"
   ]
  },
  {
   "attachments": {},
   "cell_type": "markdown",
   "metadata": {},
   "source": [
    "Gatsby is a static site generator that uses a combination of React & GraphQL. Static site generators use a combination of templates, components, and data to generate static HTML pages. "
   ]
  },
  {
   "attachments": {},
   "cell_type": "markdown",
   "metadata": {},
   "source": [
    "### Types of Websites\n",
    "\n",
    "Static Websites\n",
    "\n",
    "These kinds of websites use static HTML pages that are uploaded to a CDN or web host. However, these kinds of websites are hard to update or maintain and each page change requires a fresh request to the server and a subsequent full page refresh. Furthermore, these websites generally don't contain any dynamic data\n",
    "<hr/>\n",
    "\n",
    "Single Page Application\n",
    "\n",
    "These are typical React or Vue based websites, where only a single server request is made for the initial--empty--HTML page. Moreover, because there is only a single request from the server, it follows that everything else, be it routing or data, is handled by the SPA on the client-side by the browser. This makes websites of this kind easy to update and pretty quick, but the main tradeoff is that they're not search engine optimized as the initial HTML page is empty.\n",
    "<hr/>\n",
    "\n",
    "Server Side Rendered\n",
    "\n",
    "With these kinds of websites, pages are rendered on the server after every request and sent to the browser. The server uses data & templates from other tools like MongoDB to render the HTML pages. Because a fresh request needs to be made every time a user changes the page, these kinds of applications can be fairly slow. Additionally, the server isn't generally very quick when it reaches out for data to render the page.\n",
    "<hr/>"
   ]
  },
  {
   "attachments": {},
   "cell_type": "markdown",
   "metadata": {},
   "source": [
    "This is where Gatsby comes into play. Static site generation is when static pages are compiled at build-time, prior to deployment. Gatsby websites or pages are built with React components. Furthermore, their behavior is similar to that of a single page application after the initial request. This means, ideally, that the resulting website is quick, easy to update, and search engine optimized. \n",
    "\n",
    "Gatsby also uses many different data sources for your website and combines them all into a GraphQL layer."
   ]
  }
 ],
 "metadata": {
  "language_info": {
   "name": "python"
  },
  "orig_nbformat": 4
 },
 "nbformat": 4,
 "nbformat_minor": 2
}
