{
 "cells": [
  {
   "attachments": {},
   "cell_type": "markdown",
   "metadata": {},
   "source": [
    "# Heroku\n",
    "___"
   ]
  },
  {
   "attachments": {},
   "cell_type": "markdown",
   "metadata": {},
   "source": [
    "Heroku is a cloud platform that lets companies build, deliver, monitor, and scale apps. In other words, if you've built a website and are looking to deploy it (or looking for somewhere to host it), then Heroku may be what you're looking for. "
   ]
  },
  {
   "attachments": {},
   "cell_type": "markdown",
   "metadata": {},
   "source": [
    "Create New App\n",
    "\n",
    "Enter App Name\n",
    "\n",
    "Install Heroku CLI\n",
    "\n",
    "Add to your PATH\n",
    "\n",
    "run `heroku` in terminal to check install bien\n",
    "\n",
    "run `heroku login`\n",
    "\n",
    "login\n",
    "\n",
    "create git repo\n",
    "\n",
    "`heroku git:remote -a \"name-of-project\"`\n",
    "\n",
    "`git add .`\n",
    "\n",
    "`git commit -m \"your message\"`\n",
    "\n",
    "`git push heroku master`\n",
    "\n",
    "heroku open\n",
    "\n",
    "dont upload node_modules\n"
   ]
  },
  {
   "cell_type": "markdown",
   "metadata": {},
   "source": []
  }
 ],
 "metadata": {
  "kernelspec": {
   "display_name": "Python 3",
   "language": "python",
   "name": "python3"
  },
  "language_info": {
   "name": "python",
   "version": "3.8.2 (default, Dec 21 2020, 15:06:04) \n[Clang 12.0.0 (clang-1200.0.32.29)]"
  },
  "orig_nbformat": 4,
  "vscode": {
   "interpreter": {
    "hash": "31f2aee4e71d21fbe5cf8b01ff0e069b9275f58929596ceb00d14d90e3e16cd6"
   }
  }
 },
 "nbformat": 4,
 "nbformat_minor": 2
}
