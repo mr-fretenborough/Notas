{
 "cells": [
  {
   "attachments": {},
   "cell_type": "markdown",
   "metadata": {},
   "source": [
    "# Git Basics\n",
    "___"
   ]
  },
  {
   "attachments": {},
   "cell_type": "markdown",
   "metadata": {},
   "source": [
    "```\n",
    "git clone <link to repo>\n",
    "\n",
    "git add .\n",
    "git commit -m \"<commit message>\"\n",
    "git push\n",
    "\n",
    "git pull\n",
    "\n",
    "git fetch\n",
    "\n",
    "git switch\n",
    "\n",
    "git branch\n",
    "```"
   ]
  }
 ],
 "metadata": {
  "language_info": {
   "name": "python"
  },
  "orig_nbformat": 4
 },
 "nbformat": 4,
 "nbformat_minor": 2
}
