{
 "cells": [
  {
   "attachments": {},
   "cell_type": "markdown",
   "metadata": {},
   "source": [
    "# Linear Regression\n",
    "\n",
    "\n",
    "Linear regression attempts to model the relationship between two variables by fitting a linear equation to observed data. One variable is considered to be an explanatory variable and the other is considered to be a dependent variable. A common oversight with the implementation of a linear regressor is properly determining whether or not there is a level of causality involved in the relationship between the two variables. The purpose of finding this relationship is the ability to generate a prediction (or output value) based on a single feature. Obviously, the first thing to consider with linear regression is the equation for a line\n",
    "\n",
    "f(x)=mx+b\n",
    "\n",
    "where m is the slope, b is the y-intercept, x is the feature, and f(x) is the prediction.\n",
    "\n",
    "The most common implementation for creating a linear regressor is shifting a line such that the loss--or overall difference between the line and the actual values--has been minimized. This method is called least squares regression, and the loss function is as follows:\n",
    "\n",
    "Loss=\\sum_{i=0}^{n}(y_i-y_i^p)^2\n",
    "\n",
    "where y_i represents the i^{th} outcome and y_i^p represents the i^{th} prediction"
   ]
  }
 ],
 "metadata": {
  "kernelspec": {
   "display_name": "Python 3",
   "language": "python",
   "name": "python3"
  },
  "language_info": {
   "name": "python",
   "version": "3.8.2 (default, Dec 21 2020, 15:06:04) \n[Clang 12.0.0 (clang-1200.0.32.29)]"
  },
  "orig_nbformat": 4,
  "vscode": {
   "interpreter": {
    "hash": "31f2aee4e71d21fbe5cf8b01ff0e069b9275f58929596ceb00d14d90e3e16cd6"
   }
  }
 },
 "nbformat": 4,
 "nbformat_minor": 2
}
