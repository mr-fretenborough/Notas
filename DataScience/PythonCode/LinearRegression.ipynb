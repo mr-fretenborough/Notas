{
 "cells": [
  {
   "attachments": {},
   "cell_type": "markdown",
   "metadata": {},
   "source": [
    "# Linear Regression\n",
    "---\n",
    "---\n",
    "\n",
    "\n",
    "Linear regression attempts to model the relationship between two variables by fitting a linear equation to observed data. One variable is considered to be an explanatory variable and the other is considered to be a dependent variable. A common oversight with the implementation of a linear regressor is properly determining whether or not there is a level of causality involved in the relationship between the two variables. The purpose of finding this relationship is the ability to generate a prediction (or output value) based on a single feature. Obviously, the first thing to consider with linear regression is the equation for a line\n",
    "\n",
    "f(x)=mx+b\n",
    "\n",
    "where m is the slope, b is the y-intercept, x is the feature, and f(x) is the prediction.\n",
    "\n",
    "## **Common Implementation**\n",
    "The most common implementation for creating a linear regressor is shifting a line such that the loss--or overall difference between the line and the actual values--has been minimized. This method is called least squares regression, and the loss function is as follows:\n",
    "\n",
    "Loss=\\sum_{i=0}^{n}(y_i-y_i^p)^2\n",
    "\n",
    "where y_i represents the i^{th} outcome and y_i^p represents the i^{th} prediction"
   ]
  },
  {
   "cell_type": "code",
   "execution_count": null,
   "metadata": {},
   "outputs": [],
   "source": [
    "import pandas as pd"
   ]
  }
 ],
 "metadata": {
  "kernelspec": {
   "display_name": "base",
   "language": "python",
   "name": "python3"
  },
  "language_info": {
   "name": "python",
   "version": "3.8.3 (default, Jul  2 2020, 11:26:31) \n[Clang 10.0.0 ]"
  },
  "orig_nbformat": 4,
  "vscode": {
   "interpreter": {
    "hash": "3ad95fe08a8548265a01c14baa82179f83af9e6907fc61f7a9bea566e8167267"
   }
  }
 },
 "nbformat": 4,
 "nbformat_minor": 2
}
