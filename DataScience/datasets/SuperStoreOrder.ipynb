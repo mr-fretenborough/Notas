{
 "cells": [
  {
   "cell_type": "code",
   "execution_count": 2,
   "metadata": {},
   "outputs": [
    {
     "name": "stdout",
     "output_type": "stream",
     "text": [
      "0    408\n",
      "1    120\n",
      "2     66\n",
      "3     45\n",
      "4    114\n",
      "5     55\n",
      "6    314\n",
      "7    276\n",
      "8    912\n",
      "9    667\n",
      "Name: sales, dtype: object\n"
     ]
    }
   ],
   "source": [
    "import pandas as pd\n",
    "dataset = pd.read_csv(\"file:/Users/kier/OneDrive/Notas/DataScience/datasets/SuperStoreOrders.csv\")\n",
    "\n",
    "print(dataset['sales'].head(10))"
   ]
  }
 ],
 "metadata": {
  "kernelspec": {
   "display_name": "base",
   "language": "python",
   "name": "python3"
  },
  "language_info": {
   "codemirror_mode": {
    "name": "ipython",
    "version": 3
   },
   "file_extension": ".py",
   "mimetype": "text/x-python",
   "name": "python",
   "nbconvert_exporter": "python",
   "pygments_lexer": "ipython3",
   "version": "3.8.3"
  },
  "orig_nbformat": 4,
  "vscode": {
   "interpreter": {
    "hash": "3ad95fe08a8548265a01c14baa82179f83af9e6907fc61f7a9bea566e8167267"
   }
  }
 },
 "nbformat": 4,
 "nbformat_minor": 2
}
