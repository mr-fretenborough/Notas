{
 "cells": [
  {
   "attachments": {},
   "cell_type": "markdown",
   "metadata": {},
   "source": [
    "# Statistical Analysis Software (SAS)"
   ]
  },
  {
   "attachments": {},
   "cell_type": "markdown",
   "metadata": {},
   "source": [
    "## [Overview](https://www.guru99.com/sas-tutorial.html)"
   ]
  },
  {
   "attachments": {},
   "cell_type": "markdown",
   "metadata": {},
   "source": [
    "SAS is a command-driven software suite widely used for statistical data analysis and visualization. In SAS, data is extracted & categorized to help users identify and analyze data patterns. The SAS business model is where users will pay for extensions to the base product to suit their company's particular needs."
   ]
  },
  {
   "attachments": {},
   "cell_type": "markdown",
   "metadata": {},
   "source": [
    "### Key Features"
   ]
  },
  {
   "attachments": {},
   "cell_type": "markdown",
   "metadata": {},
   "source": [
    "1. Easily access raw data files & data in from an external database. Read and write almost any data format\n",
    "1. Manage data using tools for data entry, editing retrieval, formatting & conversion\n",
    "1. Analyze data using descriptive, statistics, multivariate techniques, forecasting, modeling, linear programming\n",
    "1. Advanced analytics helps you to make changes and improvements in business practices.\n",
    "1. Report formation with perfect graphs\n",
    "1. Operations research and project Management\n",
    "1. Data updating and modification\n",
    "1. Powerful data handling language\n",
    "1. Excellent data cleansing functions\n",
    "1. Interact with multiple host systems"
   ]
  },
  {
   "attachments": {},
   "cell_type": "markdown",
   "metadata": {},
   "source": [
    "### Product Suite"
   ]
  },
  {
   "attachments": {},
   "cell_type": "markdown",
   "metadata": {},
   "source": [
    "| name | description |\n",
    "| :--- | :---------- |\n",
    "Base | Base SAS software offers hardware agility and integrates into all kind of computing environment.\n",
    "GRAPH | This tool helps you to represent structured data into graphs.\n",
    "STAT | This tool helps you to perform different types of regression, statistical analysis variance, regression, and psychometric analysis.\n",
    "ETS | It is used for forecasting. Helps you to perform the time series analysis.\n",
    "IML | Interactive Matric language is known as IML. This tool helps you to translate mathematical formulas into an innovative program.\n",
    "EBI | A tool for Business Intelligence Applications\n",
    "Grid Manager | It is a core component which offers data management facility and a programming language for data analysis\n",
    "OR | Tool for Operation research\n",
    "QC | Use for Quality control\n",
    "Enterprise Miner | Data mining\n",
    "PH | Clinical trial analysis\n",
    "AF | It offers applications facility\n",
    "Enterprise Guide | It is a GUI based code editor & project manager"
   ]
  },
  {
   "attachments": {},
   "cell_type": "markdown",
   "metadata": {},
   "source": [
    "### Architecture"
   ]
  },
  {
   "attachments": {},
   "cell_type": "markdown",
   "metadata": {},
   "source": [
    "![architecture](images/Screenshot%202023-01-03%20at%2010.09.49%20PM.png)"
   ]
  },
  {
   "attachments": {},
   "cell_type": "markdown",
   "metadata": {},
   "source": [
    "| tier | description |\n",
    "| :--- | :---------- |\n",
    "| client | location which application is installed on user's machine. consists of components used to view the portal and its content. also includes a standard web browser used to interact with the portal.\n",
    "| middle | offers a centralized access point for enterprise information. serves as the middle man between users and company information. centralization means easier security enforcement and SSO-like functionality<ul><li> SAS Info Delivery Portal Web App: The collection of jsp, java servlets, javabeans, and otehr classes and resources. helps users access info stored in enterprise derectory to create customizable UI </li><li> Servlet Engine: responsible for managing the SAS info delivery portal web app. offers a runtime environment. provides concurrency, deployment, lifevycle management, etc. </li><li> Web Server: offers service for the servlet engine which can be used to host web apps. should be accessed using the portal </li></ul>\n",
    "| back | an enterprise directory server which maintains metadata about content which is located throughout the enterprise. area whre data and computation servers run which contrain busines objects."
   ]
  }
 ],
 "metadata": {
  "kernelspec": {
   "display_name": "Python 3",
   "language": "python",
   "name": "python3"
  },
  "language_info": {
   "name": "python",
   "version": "3.9.6 (default, Oct 18 2022, 12:41:40) \n[Clang 14.0.0 (clang-1400.0.29.202)]"
  },
  "orig_nbformat": 4,
  "vscode": {
   "interpreter": {
    "hash": "31f2aee4e71d21fbe5cf8b01ff0e069b9275f58929596ceb00d14d90e3e16cd6"
   }
  }
 },
 "nbformat": 4,
 "nbformat_minor": 2
}
