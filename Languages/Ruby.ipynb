{
 "cells": [
  {
   "attachments": {},
   "cell_type": "markdown",
   "metadata": {},
   "source": [
    "# Ruby\n",
    "\n",
    "Ruby is a dynamic, open source programming language with a focus on simplicity and productivity."
   ]
  },
  {
   "attachments": {},
   "cell_type": "markdown",
   "metadata": {},
   "source": [
    "### Installation\n",
    "[Ruby Documentation](https://www.ruby-lang.org/en/documentation/installation/)\n",
    "\n",
    "[Homebrew Install Guide](https://mac.install.guide/ruby/13.html)\n",
    "\n",
    "[Jupyter Notebooks & Ruby](https://medium.com/@leslie.sage/jupyter-notebooks-for-ruby-1e380a584c87)\n",
    "\n",
    "[Ruby Kernel for Jupyter](https://medium.com/recursivelabs/ruby-kernel-for-jupyter-notebook-5ecdecd31af3)\n"
   ]
  },
  {
   "attachments": {},
   "cell_type": "markdown",
   "metadata": {},
   "source": [
    "### [**Ruby For Beginners**](http://ruby-for-beginners.rubymonstas.org/index.html)"
   ]
  },
  {
   "attachments": {},
   "cell_type": "markdown",
   "metadata": {},
   "source": [
    "#### Variables\n",
    "Let's begin by establishing that Ruby is an object-oriented programming langues, similar to C++ and unlike C. Some even consider Ruby to be a \"true\" object oriented language in that everything is an object or a part of an object. In the same vain, every object in Ruby has a method `.object_id` which returns the unique ID which Ruby uses to internally keep track of every object. \n",
    "Furthermore, like python, you don't need to specify the data type of a variable in Ruby prior to initializing it. "
   ]
  },
  {
   "cell_type": "code",
   "execution_count": null,
   "metadata": {
    "vscode": {
     "languageId": "ruby"
    }
   },
   "outputs": [],
   "source": [
    "a_number    = 100\n",
    "a_string    = \"100\"\n",
    "a_boolean   = true\n",
    "a_null      = nil\n",
    "a_symbol    = :one\n",
    "a_array     = [1, \"2\", 3, \"4\"]\n",
    "a_dict      = { \"one\" => 1, :two => \"two\", 3: :three }"
   ]
  },
  {
   "cell_type": "code",
   "execution_count": null,
   "metadata": {
    "vscode": {
     "languageId": "ruby"
    }
   },
   "outputs": [],
   "source": [
    "puts a_string               # outputs \"100\" with newline\n",
    "print a_string + a_string   # outputs \"100100\" without newline\n",
    "puts a_number.to_s          # outputs \"100\"\n",
    "\n",
    "puts a_string.to_i          # outputs 100\n",
    "puts a_string.length        # outputs 3\n",
    "puts a_string[0]            # outputs \"1\"\n",
    "puts a_string[0, 2]         # outputs \"100\"\n",
    "puts a_string.include? \"1\"  # outputs true\n",
    "\n",
    "puts 2 ** 3                 # outputs 6\n",
    "puts 10 / 3.0               # outputs 3.33333\n",
    "puts a_number += 2          # outputs 102\n",
    "puts a_number.abs           # outputs 100\n",
    "puts Math.sqrt(a_number)    # outputs 10\n",
    "\n",
    "puts a_array[1, 3]          # [start, length] outputs \"2\"\\n 3\\n \"4\"\n",
    "puts a_array[1..3]          # [start, end] outputs \"2\"\\n 3\\n \"4\"\n",
    "puts a_array.push(5)        # outputs 1 \"2\" 3 \"4\" 5\n",
    "puts a_array.reverse        # outputs \"4\" 3 \"2\" 1\n",
    "puts a_array.include? 2     # outputs false\n",
    "\n",
    "def a_function(x, y=3)      # create function which takes two parameters which one is default 3\n",
    "    return x + y            # return the sum of two parameters\n",
    "end                         # end of function"
   ]
  },
  {
   "attachments": {},
   "cell_type": "markdown",
   "metadata": {},
   "source": [
    "#### Conditionals and Loops"
   ]
  },
  {
   "cell_type": "code",
   "execution_count": null,
   "metadata": {
    "vscode": {
     "languageId": "ruby"
    }
   },
   "outputs": [],
   "source": [
    "if a_boolean\n",
    "    puts \"one\"\n",
    "elsif !a_boolean\n",
    "    puts \"two\"\n",
    "else\n",
    "    puts \"three\"\n",
    "end\n",
    "\n",
    "case a_number\n",
    "when 1\n",
    "    puts \"one\"\n",
    "when 50\n",
    "    puts \"fifty\"\n",
    "when 100\n",
    "    puts \"hundred\"\n",
    "else \n",
    "    puts \"two\"\n",
    "end\n",
    "\n",
    "while a_number < 101\n",
    "    break\n",
    "end\n",
    "\n",
    "for i in 0..a_number\n",
    "    puts i\n",
    "end\n",
    "\n",
    "a_number.times do |i|\n",
    "    puts i\n",
    "end\n",
    "\n",
    "for a_element in a_array\n",
    "    puts a_element\n",
    "end\n",
    "\n",
    "a_array.each do |a_element|\n",
    "    puts a_element\n",
    "end"
   ]
  },
  {
   "attachments": {},
   "cell_type": "markdown",
   "metadata": {},
   "source": [
    "#### Exception Handling"
   ]
  },
  {
   "cell_type": "code",
   "execution_count": null,
   "metadata": {
    "vscode": {
     "languageId": "ruby"
    }
   },
   "outputs": [],
   "source": [
    "# Exception Handling\n",
    "begin\n",
    "    num = 10/0\n",
    "rescue ZeroDivisionError\n",
    "    puts \"error div 0\"\n",
    "rescue\n",
    "    puts \"error generic\"\n",
    "end\n",
    "\n",
    "raise \"my exception\""
   ]
  },
  {
   "attachments": {},
   "cell_type": "markdown",
   "metadata": {},
   "source": [
    "#### Classes and Inheritance"
   ]
  },
  {
   "cell_type": "code",
   "execution_count": null,
   "metadata": {
    "vscode": {
     "languageId": "ruby"
    }
   },
   "outputs": [],
   "source": [
    "class a_class\n",
    "    attr_accessor :a_attribute # defines attributes\n",
    "\n",
    "    # Constructor\n",
    "    def initialize(a_attribute)\n",
    "        @a_attribute = a_attribute\n",
    "    end\n",
    "    # Setter\n",
    "    def a_attribute=(a_attribute)\n",
    "        @a_attribute = a_attribute\n",
    "    end\n",
    "    # Getter\n",
    "    def a_attribute\n",
    "        return @a_attribute\n",
    "    end\n",
    "    # a method\n",
    "    def a_method()\n",
    "        puts \"called a_method uses #{self.a_attribute} in a_class\"\n",
    "    end\n",
    "end\n",
    "\n",
    "a_Class = a_class.new(\"attrib\")"
   ]
  }
 ],
 "metadata": {
  "kernelspec": {
   "display_name": "Python 3",
   "language": "python",
   "name": "python3"
  },
  "language_info": {
   "name": "python",
   "version": "3.8.2 (default, Dec 21 2020, 15:06:04) \n[Clang 12.0.0 (clang-1200.0.32.29)]"
  },
  "orig_nbformat": 4,
  "vscode": {
   "interpreter": {
    "hash": "31f2aee4e71d21fbe5cf8b01ff0e069b9275f58929596ceb00d14d90e3e16cd6"
   }
  }
 },
 "nbformat": 4,
 "nbformat_minor": 2
}
