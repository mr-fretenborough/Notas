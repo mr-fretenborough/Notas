{
 "cells": [
  {
   "cell_type": "markdown",
   "metadata": {},
   "source": [
    "# Docker"
   ]
  },
  {
   "attachments": {},
   "cell_type": "markdown",
   "metadata": {},
   "source": [
    "### [Docker Overview](https://www.youtube.com/watch?v=gAkwW2tuIqE)"
   ]
  },
  {
   "attachments": {},
   "cell_type": "markdown",
   "metadata": {},
   "source": [
    "Docker, simply, is a way to package software so that it can run on any machine. In other words, Docker is a set of platform as a service products that use OS-level virtualization to deliver software in packages called containers. The service has both free and premium tiers. The software that hosts the containers is called Docker Engine.\n",
    "\n",
    "\n",
    "Beyond this, there are three core concepts of Docker:\n",
    "1. DockerFile:  A blueprint for building a Docker Image.\n",
    "1. Image:       A template for running Docker Containers.\n",
    "1. Container:   A running process (could be a Node.js application).\n",
    "\n",
    "The goal that Docker tries to solve is the difference in environments from machine to machine. It solves this by creating an immutable snapshot of an environment, called an Image. At this point, anyone can download the image and replicate your environment in a container (which is just a running process). This is where tools like Kubernetes and Swarm are implemented to increase the scalability of container production."
   ]
  },
  {
   "cell_type": "code",
   "execution_count": null,
   "metadata": {
    "vscode": {
     "languageId": "shellscript"
    }
   },
   "outputs": [],
   "source": [
    "# This is a docker command which lists all running containers on your system.\n",
    "docker ps"
   ]
  },
  {
   "attachments": {},
   "cell_type": "markdown",
   "metadata": {},
   "source": [
    "The first key step in implementing Docker into your project is creating the Dockerfile.\n",
    "\n",
    "The Dockerfile starts with a `FROM` command which is used to build a container profile from a pre-existing container; one example is `node:12`. Next, you want to add your app's source code to the image. You can do this with the `WORKDIR` command followed by the directory you'd like to add. This is conceptually similar to when you `cd` into a directory. One thing to note, however, is that Docker will try to cache any of these commands if noting changes; in the hopes of increasing efficiency. This means that with Docker, we want to install dependencies first (in the case of a Node.js project) so that it can be cached. This is so that we don't have to re-install all packages every time that we change our source code. To do this, we can use the `COPY` command followed by, first, the source from our machine (/package*.json for example), then, the directory in the Docker container (./ for example). Now we can run the npm install command by writing `RUN npm install`. Now we can copy over our source code, similar to how we did with our dependencies. Though we will need to add a `.dockerignore` file and adding any files or folders that we don't want to include in the container (in the Node.js case, you would add `node_modules` to the file). Now, you can specify the port you'd like to use through the `ENV` and `EXPOSE` commands. Finally, you can use the `CMD` command to tell the docker container how to run the application. Furthermore, there can only be one of these commands per Docker container.\n",
    "\n",
    "Each of these commands in the Dockerfile are considered layers. You may also notice that the `RUN` command is in what's called shell form and the `CMD` command is in exec form, which is the perferred use case because it doesn't start a shell session."
   ]
  },
  {
   "cell_type": "raw",
   "metadata": {},
   "source": [
    "# This is the dockerfile\n",
    "FROM node:12\n",
    "\n",
    "WORKDIR /app\n",
    "\n",
    "RUN npm install\n",
    "\n",
    "COPY . .\n",
    "\n",
    "ENV PORT=8080\n",
    "\n",
    "EXPOSE 8080\n",
    "\n",
    "CMD [ \"npm\", \"start\"]"
   ]
  },
  {
   "cell_type": "raw",
   "metadata": {},
   "source": [
    "# This is the .dockerignore file\n",
    "node_modules"
   ]
  },
  {
   "attachments": {},
   "cell_type": "markdown",
   "metadata": {},
   "source": [
    "You can now build the docker image by running the following command. Be fully aware however that there are a lot of different ways you can alter this command."
   ]
  },
  {
   "cell_type": "code",
   "execution_count": null,
   "metadata": {
    "vscode": {
     "languageId": "shellscript"
    }
   },
   "outputs": [],
   "source": [
    "docker build /path/to/Dockerfile"
   ]
  },
  {
   "attachments": {},
   "cell_type": "markdown",
   "metadata": {},
   "source": [
    "Congratulations, you've built your first Docker image and can now upload it for deployment on another machine."
   ]
  },
  {
   "cell_type": "code",
   "execution_count": null,
   "metadata": {
    "vscode": {
     "languageId": "shellscript"
    }
   },
   "outputs": [],
   "source": [
    "docker run 1234asdf"
   ]
  },
  {
   "attachments": {},
   "cell_type": "markdown",
   "metadata": {},
   "source": [
    "Volumes: shared files\n",
    "docker compose => multiple containers working together"
   ]
  },
  {
   "attachments": {},
   "cell_type": "markdown",
   "metadata": {},
   "source": [
    "### Extra Sources"
   ]
  },
  {
   "cell_type": "markdown",
   "metadata": {},
   "source": []
  }
 ],
 "metadata": {
  "language_info": {
   "name": "python"
  },
  "orig_nbformat": 4
 },
 "nbformat": 4,
 "nbformat_minor": 2
}
