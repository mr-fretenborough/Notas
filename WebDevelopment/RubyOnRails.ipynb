{
 "cells": [
  {
   "attachments": {},
   "cell_type": "markdown",
   "metadata": {},
   "source": [
    "# Ruby on Rails"
   ]
  },
  {
   "attachments": {},
   "cell_type": "markdown",
   "metadata": {},
   "source": [
    "### Installation & Setup"
   ]
  },
  {
   "attachments": {},
   "cell_type": "markdown",
   "metadata": {},
   "source": [
    "```\n",
    "brew install ruby\n",
    "ruby -v\n",
    "```\n",
    "\n",
    "I ran into a versioning error when trying to install rails. It seems the compatibility between Ruby and Rails is very particular when it comes to versioning. Because I have Ruby version 2.6.10 on my machine, I've chosen to install rails version 6.0.6.\n",
    "\n",
    "```\n",
    "gem install rails -v 6.0.6\n",
    "rails -v\n",
    "```\n",
    "\n",
    "One of the reasons why the ruby on rails framework is so difficult to start because there are so many products where compatibility isn't very broad.\n",
    "\n",
    "[Stack Overflow Rails Versioning Error](https://stackoverflow.com/questions/38515733/rails-install-fails-activesupport-requires-ruby-version-2-2-2)\n",
    "\n",
    "[Rails & Ruby Compatibility](https://www.fastruby.io/blog/ruby/rails/versions/compatibility-table.html)\n",
    "\n",
    "[Rails Versions Log](https://rubygems.org/gems/rails/versions)"
   ]
  },
  {
   "attachments": {},
   "cell_type": "markdown",
   "metadata": {},
   "source": [
    "#### Starting a Project\n",
    "\n",
    "`mdkir ruby_on_rails`\n",
    "`cd ruby_on_rails`\n",
    "`rails new rails_project`"
   ]
  },
  {
   "attachments": {},
   "cell_type": "markdown",
   "metadata": {},
   "source": [
    "### placeholder"
   ]
  },
  {
   "cell_type": "markdown",
   "metadata": {},
   "source": []
  },
  {
   "attachments": {},
   "cell_type": "markdown",
   "metadata": {},
   "source": [
    "### Sources"
   ]
  },
  {
   "attachments": {},
   "cell_type": "markdown",
   "metadata": {},
   "source": [
    "[Learn Ruby on Rails - Full Course](https://www.youtube.com/watch?v=fmyvWz5TUWg&t=1s)"
   ]
  }
 ],
 "metadata": {
  "kernelspec": {
   "display_name": "Python 3",
   "language": "python",
   "name": "python3"
  },
  "language_info": {
   "name": "python",
   "version": "3.8.2 (default, Dec 21 2020, 15:06:04) \n[Clang 12.0.0 (clang-1200.0.32.29)]"
  },
  "orig_nbformat": 4,
  "vscode": {
   "interpreter": {
    "hash": "31f2aee4e71d21fbe5cf8b01ff0e069b9275f58929596ceb00d14d90e3e16cd6"
   }
  }
 },
 "nbformat": 4,
 "nbformat_minor": 2
}
