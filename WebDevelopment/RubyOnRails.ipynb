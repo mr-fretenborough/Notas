{
 "cells": [
  {
   "attachments": {},
   "cell_type": "markdown",
   "metadata": {},
   "source": [
    "# Ruby on Rails\n",
    "___"
   ]
  },
  {
   "attachments": {},
   "cell_type": "markdown",
   "metadata": {},
   "source": [
    "### Installation & Setup"
   ]
  },
  {
   "attachments": {},
   "cell_type": "markdown",
   "metadata": {},
   "source": [
    "[Stack Overflow Rails Versioning Error](https://stackoverflow.com/questions/38515733/rails-install-fails-activesupport-requires-ruby-version-2-2-2)\n",
    "\n",
    "[Rails & Ruby Compatibility](https://www.fastruby.io/blog/ruby/rails/versions/compatibility-table.html)\n",
    "\n",
    "[Rails Versions Log](https://rubygems.org/gems/rails/versions)"
   ]
  },
  {
   "attachments": {},
   "cell_type": "markdown",
   "metadata": {},
   "source": [
    "Because MacOS comes with Ruby already installed, we need to check to see if this version is sufficient for out project with:"
   ]
  },
  {
   "cell_type": "code",
   "execution_count": null,
   "metadata": {
    "vscode": {
     "languageId": "shellscript"
    }
   },
   "outputs": [],
   "source": [
    "ruby -v"
   ]
  },
  {
   "attachments": {},
   "cell_type": "markdown",
   "metadata": {},
   "source": [
    "Chances are this is not the version you're looking for. Thus, we need to install a different version of ruby. Begin by installing Homebrew, rbenv, and ruby-build.\n",
    "* [Homebrew](https://brew.sh/): This is a git and ruby based package manager for MacOS and Linux systems\n",
    "* [rbenv](https://github.com/rbenv/rbenv): This is a version manager tool for ruby on unix-like systems\n",
    "* ruby-build:"
   ]
  },
  {
   "cell_type": "code",
   "execution_count": null,
   "metadata": {
    "vscode": {
     "languageId": "shellscript"
    }
   },
   "outputs": [],
   "source": [
    "/bin/bash -c \"$(curl -fsSL https://raw.githubusercontent.com/Homebrew/install/HEAD/install.sh)\"\n",
    "\n",
    "brew -v\n",
    "\n",
    "brew install rbenv ruby-build\n",
    "\n",
    "rbenv -v\n",
    "\n",
    "ruby-build -v"
   ]
  },
  {
   "attachments": {},
   "cell_type": "markdown",
   "metadata": {},
   "source": [
    "You will need to update your context in bash, to do this run the following command."
   ]
  },
  {
   "cell_type": "code",
   "execution_count": null,
   "metadata": {
    "vscode": {
     "languageId": "shellscript"
    }
   },
   "outputs": [],
   "source": [
    "rbenv init"
   ]
  },
  {
   "attachments": {},
   "cell_type": "markdown",
   "metadata": {},
   "source": [
    "Take the output of this command and place it into a file named `.bash_profile` at the home directory"
   ]
  },
  {
   "cell_type": "code",
   "execution_count": null,
   "metadata": {
    "vscode": {
     "languageId": "shellscript"
    }
   },
   "outputs": [],
   "source": [
    "echo '<previous command output>' >> ~/.bash_profile"
   ]
  },
  {
   "attachments": {},
   "cell_type": "markdown",
   "metadata": {},
   "source": [
    "Now you can list all versions available for installation through rbenv to your terminal. Then--in my case--install ruby version 3.1.3."
   ]
  },
  {
   "cell_type": "code",
   "execution_count": null,
   "metadata": {
    "vscode": {
     "languageId": "shellscript"
    }
   },
   "outputs": [],
   "source": [
    "rbenv install -l\n",
    "\n",
    "rbenv install 3.1.3"
   ]
  },
  {
   "attachments": {},
   "cell_type": "markdown",
   "metadata": {},
   "source": [
    "Now you have the option to establish the ruby version to be used, either globally or in a particular directory."
   ]
  },
  {
   "cell_type": "code",
   "execution_count": null,
   "metadata": {
    "vscode": {
     "languageId": "shellscript"
    }
   },
   "outputs": [],
   "source": [
    "rbenv global <ruby version>\n",
    "rbenv local <ruby version>"
   ]
  },
  {
   "attachments": {},
   "cell_type": "markdown",
   "metadata": {},
   "source": [
    "You can verify our success by checking the ruby version and seeing the version you've just installed."
   ]
  },
  {
   "attachments": {},
   "cell_type": "markdown",
   "metadata": {},
   "source": [
    "#### Beginning a Project"
   ]
  },
  {
   "attachments": {},
   "cell_type": "markdown",
   "metadata": {},
   "source": [
    "You can initialize a rails project with the following commands"
   ]
  },
  {
   "cell_type": "code",
   "execution_count": null,
   "metadata": {
    "vscode": {
     "languageId": "shellscript"
    }
   },
   "outputs": [],
   "source": [
    "mdkir ruby_on_rails\n",
    "\n",
    "cd ruby_on_rails\n",
    "\n",
    "rails new rails_project"
   ]
  },
  {
   "attachments": {},
   "cell_type": "markdown",
   "metadata": {},
   "source": [
    "After initializing a project, you can start the project on your local host."
   ]
  },
  {
   "cell_type": "code",
   "execution_count": null,
   "metadata": {
    "vscode": {
     "languageId": "shellscript"
    }
   },
   "outputs": [],
   "source": [
    "rails server"
   ]
  },
  {
   "attachments": {},
   "cell_type": "markdown",
   "metadata": {},
   "source": [
    "### Troubleshooting"
   ]
  },
  {
   "attachments": {},
   "cell_type": "markdown",
   "metadata": {},
   "source": [
    "This is a little embarrasing to admit, but it took me a little under a week to figure out how to actually install the correct version of ruby on my machine through rbenv and ruby-build.\n",
    "\n",
    "The installation was rather smooth up until it came to `rbenv install 3.1.3`. I would get a `BUILD FAILED (macOS 13.0.1 using ruby-build 20221206)`. I uninstalled and reinstalled rbenv, ruby-build, and upgraded homebrew to no avail. I looked through the log file (placed in this folder) and saw \n",
    "\n",
    "```ld: warning: directory not found for option '-L/Users/kier/.rbenv/versions/3.1.3/lib'``` \n",
    "\n",
    "Based on a [Stack Overflow](https://stackoverflow.com/questions/9458739/ld-warning-directory-not-found-for-option) thread, the `-L` flag means there is an error with an XCode Library Search Path. I then began to look at my XCode installation [version](https://mac.install.guide/commandlinetools/2.html). Which turned out to be an old, unsupported version; so I [uninstalled](https://mac.install.guide/commandlinetools/6.html) and [reinstalled](https://mac.install.guide/commandlinetools/7.html) it."
   ]
  },
  {
   "cell_type": "code",
   "execution_count": null,
   "metadata": {
    "vscode": {
     "languageId": "shellscript"
    }
   },
   "outputs": [],
   "source": [
    "xcode-select -p\n",
    "\n",
    "clang --version\n",
    "\n",
    "sudo rm -rf /Library/Developer/CommandLineTools\n",
    "\n",
    "xcode-select --install"
   ]
  },
  {
   "attachments": {},
   "cell_type": "markdown",
   "metadata": {},
   "source": [
    "And after this I was able to use rbenv to install ruby 3.1.3 and establish it as the global ruby installation to use. Furthermore, because I was able to install the correct version of Ruby, I was finally able to install Rails with:"
   ]
  },
  {
   "cell_type": "code",
   "execution_count": null,
   "metadata": {
    "vscode": {
     "languageId": "shellscript"
    }
   },
   "outputs": [],
   "source": [
    "gem install rails\n",
    "\n",
    "rbenv rehash"
   ]
  },
  {
   "attachments": {},
   "cell_type": "markdown",
   "metadata": {},
   "source": [
    "### [MVC Architecture](https://www.youtube.com/watch?v=lKUR4mu1M-U)"
   ]
  },
  {
   "attachments": {},
   "cell_type": "markdown",
   "metadata": {},
   "source": [
    "The Model, View, Controller (MVC) architecture is a design pattern which divides code into 3 components.\n",
    "* _Model_: A database wrapper; wrapping queries or individual records\n",
    "* _View_: The response body content in the form of HTML, CSV, XML, etc. (what gets sent back to the browser)\n",
    "* _Controller_: Code responsible for deciding how to process a request and defining a response.\n",
    "\n",
    "There is also a fourth concept of the MVC architecture, called Routes, which can be described as a \"matcher for the URL that is requested\", which feeds into a controller."
   ]
  },
  {
   "attachments": {},
   "cell_type": "markdown",
   "metadata": {},
   "source": [
    "##"
   ]
  },
  {
   "attachments": {},
   "cell_type": "markdown",
   "metadata": {},
   "source": [
    "### [Routes and Route Types](https://www.youtube.com/watch?v=lwL_KWtflN0)"
   ]
  },
  {
   "attachments": {},
   "cell_type": "markdown",
   "metadata": {},
   "source": [
    "In the standard ruby on rails project, the routes for the application can be found at `/config/routes.rb`."
   ]
  },
  {
   "cell_type": "code",
   "execution_count": null,
   "metadata": {
    "vscode": {
     "languageId": "ruby"
    }
   },
   "outputs": [],
   "source": [
    "# /config/routes.rb\n",
    "Rails.application.routes.draw do\n",
    "    get \"/about\", to: \"about#index\"\n",
    "\n",
    "    root to: \"main#index\" # This is for the root route\n",
    "end"
   ]
  },
  {
   "cell_type": "code",
   "execution_count": null,
   "metadata": {
    "vscode": {
     "languageId": "ruby"
    }
   },
   "outputs": [],
   "source": [
    "# Make New File: /app/controllers/about_controller.rb\n",
    "class AboutController < ApplicationController\n",
    "    def index\n",
    "                \n",
    "    end\n",
    "end"
   ]
  },
  {
   "cell_type": "code",
   "execution_count": null,
   "metadata": {
    "vscode": {
     "languageId": "ruby"
    }
   },
   "outputs": [],
   "source": [
    "# Make New Folder /app/views/about\n",
    "# Make New File /app/views/about/index.html.erb\n",
    "<h1>This is an about page...</h1>"
   ]
  },
  {
   "attachments": {},
   "cell_type": "markdown",
   "metadata": {},
   "source": [
    "Even though the AboutController returns nothing, the page will still render \"This is an about page...\" at the `host/about` route because we built out the `/app/views/about/` directory."
   ]
  },
  {
   "attachments": {},
   "cell_type": "markdown",
   "metadata": {},
   "source": [
    "However, with only the about page and no root, the application will give a 404 error in production. To fix this, we need to create a root; similar to how we added the about page, except the routes.rb will have a \"root\""
   ]
  },
  {
   "cell_type": "code",
   "execution_count": null,
   "metadata": {
    "vscode": {
     "languageId": "ruby"
    }
   },
   "outputs": [],
   "source": [
    "# Make New File: /app/controllers/main_controller.rb\n",
    "class MainController < ApplicationController\n",
    "    def index\n",
    "        # still does nothing\n",
    "    end\n",
    "end"
   ]
  },
  {
   "cell_type": "code",
   "execution_count": null,
   "metadata": {
    "vscode": {
     "languageId": "ruby"
    }
   },
   "outputs": [],
   "source": [
    "# Make New Folder /app/views/main\n",
    "# Make New File /app/views/main/index.html.erb\n",
    "<h1>This is the home page...</h1>"
   ]
  },
  {
   "attachments": {},
   "cell_type": "markdown",
   "metadata": {},
   "source": [
    "### [Bootstrap CSS & JavaScript](https://www.youtube.com/watch?v=EzCl-6etSGI)"
   ]
  },
  {
   "attachments": {},
   "cell_type": "markdown",
   "metadata": {},
   "source": [
    "Bootstrap and JavaScript are ways to make a web app look prettier without having to \"re-invent the wheel\". In other words, its an easy to implement beautification library."
   ]
  },
  {
   "attachments": {},
   "cell_type": "markdown",
   "metadata": {},
   "source": [
    "### a"
   ]
  },
  {
   "attachments": {},
   "cell_type": "markdown",
   "metadata": {},
   "source": [
    "https://youtube.com/playlist?list=PLm8ctt9NhMNV75T9WYIrA6m9I_uw7vS56"
   ]
  },
  {
   "cell_type": "markdown",
   "metadata": {},
   "source": []
  },
  {
   "attachments": {},
   "cell_type": "markdown",
   "metadata": {},
   "source": [
    "### Sources"
   ]
  },
  {
   "attachments": {},
   "cell_type": "markdown",
   "metadata": {},
   "source": [
    "[Learn Ruby on Rails - Full Course](https://www.youtube.com/watch?v=fmyvWz5TUWg&t=1s)"
   ]
  }
 ],
 "metadata": {
  "kernelspec": {
   "display_name": "Python 3",
   "language": "python",
   "name": "python3"
  },
  "language_info": {
   "name": "python",
   "version": "3.9.6 (default, Oct 18 2022, 12:41:40) \n[Clang 14.0.0 (clang-1400.0.29.202)]"
  },
  "orig_nbformat": 4,
  "vscode": {
   "interpreter": {
    "hash": "31f2aee4e71d21fbe5cf8b01ff0e069b9275f58929596ceb00d14d90e3e16cd6"
   }
  }
 },
 "nbformat": 4,
 "nbformat_minor": 2
}
