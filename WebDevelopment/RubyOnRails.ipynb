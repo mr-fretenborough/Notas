{
 "cells": [
  {
   "attachments": {},
   "cell_type": "markdown",
   "metadata": {},
   "source": [
    "# Ruby on Rails\n",
    "___"
   ]
  },
  {
   "attachments": {},
   "cell_type": "markdown",
   "metadata": {},
   "source": [
    "### Installation & Setup"
   ]
  },
  {
   "attachments": {},
   "cell_type": "markdown",
   "metadata": {},
   "source": [
    "```\n",
    "brew install ruby\n",
    "ruby -v\n",
    "```\n",
    "\n",
    "I ran into a versioning error when trying to install rails. It seems the compatibility between Ruby and Rails is very particular when it comes to versioning. Because I have Ruby version 2.6.10 on my machine, I've chosen to install rails version 6.0.6.\n",
    "\n",
    "```\n",
    "gem install rails -v 6.0.6\n",
    "rails -v\n",
    "```\n",
    "\n",
    "One of the reasons why the ruby on rails framework is so difficult to start because there are so many products where compatibility isn't very broad.\n",
    "\n",
    "[Stack Overflow Rails Versioning Error](https://stackoverflow.com/questions/38515733/rails-install-fails-activesupport-requires-ruby-version-2-2-2)\n",
    "\n",
    "[Rails & Ruby Compatibility](https://www.fastruby.io/blog/ruby/rails/versions/compatibility-table.html)\n",
    "\n",
    "[Rails Versions Log](https://rubygems.org/gems/rails/versions)"
   ]
  },
  {
   "attachments": {},
   "cell_type": "markdown",
   "metadata": {},
   "source": [
    "#### Starting a Project\n",
    "\n",
    "`mdkir ruby_on_rails`\n",
    "`cd ruby_on_rails`\n",
    "`rails new rails_project`"
   ]
  },
  {
   "attachments": {},
   "cell_type": "markdown",
   "metadata": {},
   "source": [
    "### [MVC Architecture](https://www.youtube.com/watch?v=lKUR4mu1M-U)"
   ]
  },
  {
   "attachments": {},
   "cell_type": "markdown",
   "metadata": {},
   "source": [
    "The Model, View, Controller (MVC) architecture is a design pattern which divides code into 3 components.\n",
    "* _Model_: A database wrapper; wrapping queries or individual records\n",
    "* _View_: The response body content in the form of HTML, CSV, XML, etc. (what gets sent back to the browser)\n",
    "* _Controller_: Code responsible for deciding how to process a request and defining a response.\n",
    "\n",
    "There is also a fourth concept of the MVC architecture, called Routes, which can be described as a \"matcher for the URL that is requested\", which feeds into a controller."
   ]
  },
  {
   "attachments": {},
   "cell_type": "markdown",
   "metadata": {},
   "source": [
    "### [Routes and Route Types](https://www.youtube.com/watch?v=lwL_KWtflN0)"
   ]
  },
  {
   "attachments": {},
   "cell_type": "markdown",
   "metadata": {},
   "source": [
    "In the standard ruby on rails project, the routes for the application can be found at `/config/routes.rb`."
   ]
  },
  {
   "cell_type": "code",
   "execution_count": null,
   "metadata": {
    "vscode": {
     "languageId": "ruby"
    }
   },
   "outputs": [],
   "source": [
    "# /config/routes.rb\n",
    "Rails.application.routes.draw do\n",
    "    get \"/about\", to: \"about#index\"\n",
    "\n",
    "    root to: \"main#index\" # This is for the root route\n",
    "end"
   ]
  },
  {
   "cell_type": "code",
   "execution_count": null,
   "metadata": {
    "vscode": {
     "languageId": "ruby"
    }
   },
   "outputs": [],
   "source": [
    "# Make New File: /app/controllers/about_controller.rb\n",
    "class AboutController < ApplicationController\n",
    "    def index\n",
    "                \n",
    "    end\n",
    "end"
   ]
  },
  {
   "cell_type": "code",
   "execution_count": null,
   "metadata": {
    "vscode": {
     "languageId": "ruby"
    }
   },
   "outputs": [],
   "source": [
    "# Make New Folder /app/views/about\n",
    "# Make New File /app/views/about/index.html.erb\n",
    "<h1>This is an about page...</h1>"
   ]
  },
  {
   "attachments": {},
   "cell_type": "markdown",
   "metadata": {},
   "source": [
    "Even though the AboutController returns nothing, the page will still render \"This is an about page...\" at the `host/about` route because we built out the `/app/views/about/` directory."
   ]
  },
  {
   "attachments": {},
   "cell_type": "markdown",
   "metadata": {},
   "source": [
    "However, with only the about page and no root, the application will give a 404 error in production. To fix this, we need to create a root; similar to how we added the about page, except the routes.rb will have a \"root\""
   ]
  },
  {
   "cell_type": "code",
   "execution_count": null,
   "metadata": {
    "vscode": {
     "languageId": "ruby"
    }
   },
   "outputs": [],
   "source": [
    "# Make New File: /app/controllers/main_controller.rb\n",
    "class MainController < ApplicationController\n",
    "    def index\n",
    "        # still does nothing\n",
    "    end\n",
    "end"
   ]
  },
  {
   "cell_type": "code",
   "execution_count": null,
   "metadata": {
    "vscode": {
     "languageId": "ruby"
    }
   },
   "outputs": [],
   "source": [
    "# Make New Folder /app/views/main\n",
    "# Make New File /app/views/main/index.html.erb\n",
    "<h1>This is the home page...</h1>"
   ]
  },
  {
   "attachments": {},
   "cell_type": "markdown",
   "metadata": {},
   "source": [
    "### [Bootstrap CSS & JavaScript](https://www.youtube.com/watch?v=EzCl-6etSGI)"
   ]
  },
  {
   "attachments": {},
   "cell_type": "markdown",
   "metadata": {},
   "source": [
    "Bootstrap and JavaScript are ways to make a web app look prettier without having to \"re-invent the wheel\". In other words, its an easy to implement beautification library."
   ]
  },
  {
   "attachments": {},
   "cell_type": "markdown",
   "metadata": {},
   "source": [
    "### a"
   ]
  },
  {
   "attachments": {},
   "cell_type": "markdown",
   "metadata": {},
   "source": [
    "### Sources"
   ]
  },
  {
   "attachments": {},
   "cell_type": "markdown",
   "metadata": {},
   "source": [
    "[Learn Ruby on Rails - Full Course](https://www.youtube.com/watch?v=fmyvWz5TUWg&t=1s)"
   ]
  }
 ],
 "metadata": {
  "kernelspec": {
   "display_name": "Python 3",
   "language": "python",
   "name": "python3"
  },
  "language_info": {
   "name": "python",
   "version": "3.8.2 (default, Dec 21 2020, 15:06:04) \n[Clang 12.0.0 (clang-1200.0.32.29)]"
  },
  "orig_nbformat": 4,
  "vscode": {
   "interpreter": {
    "hash": "31f2aee4e71d21fbe5cf8b01ff0e069b9275f58929596ceb00d14d90e3e16cd6"
   }
  }
 },
 "nbformat": 4,
 "nbformat_minor": 2
}
